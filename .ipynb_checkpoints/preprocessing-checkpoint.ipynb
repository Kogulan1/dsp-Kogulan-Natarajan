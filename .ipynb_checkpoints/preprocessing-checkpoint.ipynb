{
 "cells": [
  {
   "cell_type": "markdown",
   "metadata": {},
   "source": [
    "# PREPROCESSING"
   ]
  },
  {
   "cell_type": "code",
   "execution_count": 5,
   "metadata": {},
   "outputs": [],
   "source": [
    "import logging\n",
    "from pathlib import Path\n",
    "import joblib\n",
    "import pandas as pd\n",
    "from sklearn.preprocessing import OneHotEncoder"
   ]
  },
  {
   "cell_type": "code",
   "execution_count": 6,
   "metadata": {},
   "outputs": [],
   "source": [
    "def preprocess(X: pd.DataFrame, models_dir: Path, training_mode: bool) -> pd.DataFrame:\n",
    "    X_preprocessed = preprocess_continuous_data(X)\n",
    "    X_preprocessed = preprocess_categorical_data(X_preprocessed, models_dir, training_mode)\n",
    "    return X_preprocessed\n",
    "\n",
    "### Get continuous columns from data frame\n",
    "def get_continuous_columns_in_dataframe(dataframe):\n",
    "    continuous_columns = dataframe.select_dtypes(include='number').columns\n",
    "    return continuous_columns\n",
    "\n",
    "## Get categorical columns from data frame\n",
    "def get_categorical_columns(dataframe: pd.DataFrame) -> [str]:\n",
    "    categorical_columns_list = list(dataframe.select_dtypes(include='object').columns)\n",
    "    return categorical_columns_list\n",
    "\n",
    "### Continuous data\n",
    "def preprocess_continuous_data(X):\n",
    "    X_preprocessed = X.copy()\n",
    "    continuous_columns = get_continuous_columns_in_dataframe(X_preprocessed)\n",
    "    for column_name in continuous_columns:\n",
    "        X_preprocessed[column_name] = X_preprocessed[column_name].fillna(0)\n",
    "    return X_preprocessed\n",
    "\n",
    "## Categorical data\n",
    "def preprocess_categorical_data(X: pd.DataFrame, models_dir: Path, training_mode: bool) -> pd.DataFrame:\n",
    "    X_preprocessed = impute_missing_categorical_data(X)\n",
    "    X_with_encoded_categorical_features = encode_categorical_features_orchestrator(X_preprocessed, models_dir, training_mode)\n",
    "    return X_with_encoded_categorical_features\n",
    "\n",
    "def impute_missing_categorical_data(X: pd.DataFrame) -> pd.DataFrame:\n",
    "    X_preprocessed = X.copy()\n",
    "    categorical_columns = get_categorical_columns(X_preprocessed)\n",
    "    for column_name in categorical_columns:\n",
    "        X_preprocessed[column_name] = X_preprocessed[column_name].fillna('Missing value')\n",
    "    return X_preprocessed\n",
    "\n",
    "def encode_categorical_features_orchestrator(X: pd.DataFrame, models_dir: Path,\n",
    "                                             training_mode: bool = False) -> pd.DataFrame:\n",
    "    one_hot_encoder = get_categorical_encoder(X, models_dir, training_mode)\n",
    "    X_with_continuous_data_and_encoded_categorical_data = encode_categorical_features(one_hot_encoder, X)\n",
    "    return X_with_continuous_data_and_encoded_categorical_data\n",
    "\n",
    "def get_categorical_encoder(X: pd.DataFrame, models_dir: Path, training_mode: bool):\n",
    "    encoder_filepath = models_dir / 'encoder_categorical.joblib'\n",
    "    if training_mode:\n",
    "        logging.error('Generating a new encoder')\n",
    "        categorical_columns = get_categorical_columns(X)\n",
    "        one_hot_encoder = OneHotEncoder(handle_unknown='ignore', dtype=int, sparse=True)\n",
    "        one_hot_encoder.fit(X[categorical_columns])\n",
    "        joblib.dump(one_hot_encoder, encoder_filepath)\n",
    "    else:\n",
    "        logging.error('Loading an existng encoder')\n",
    "        if encoder_filepath.is_file():\n",
    "            one_hot_encoder = joblib.load(encoder_filepath)\n",
    "        else:\n",
    "            raise Exception('The blablablm')\n",
    "    return one_hot_encoder\n",
    "\n",
    "def encode_categorical_features(one_hot_encoder, X):\n",
    "    categorical_columns = get_categorical_columns(X)\n",
    "    continuous_columns = get_continuous_columns_in_dataframe(X)\n",
    "    encoded_categorical_data_matrix = one_hot_encoder.transform(X[categorical_columns])\n",
    "    encoded_data_columns = one_hot_encoder.get_feature_names(categorical_columns)\n",
    "    encoded_categorical_data_df = pd.DataFrame.sparse.from_spmatrix(data=encoded_categorical_data_matrix,\n",
    "                                                                    columns=encoded_data_columns, index=X.index)\n",
    "    X_with_continuous_data_and_encoded_categorical_data = X.copy()[continuous_columns].join(encoded_categorical_data_df)\n",
    "    return X_with_continuous_data_and_encoded_categorical_data"
   ]
  },
  {
   "cell_type": "code",
   "execution_count": null,
   "metadata": {},
   "outputs": [],
   "source": []
  }
 ],
 "metadata": {
  "kernelspec": {
   "display_name": "Python 3",
   "language": "python",
   "name": "python3"
  },
  "language_info": {
   "codemirror_mode": {
    "name": "ipython",
    "version": 3
   },
   "file_extension": ".py",
   "mimetype": "text/x-python",
   "name": "python",
   "nbconvert_exporter": "python",
   "pygments_lexer": "ipython3",
   "version": "3.8.5"
  },
  "toc": {
   "base_numbering": 1,
   "nav_menu": {},
   "number_sections": true,
   "sideBar": true,
   "skip_h1_title": false,
   "title_cell": "Table of Contents",
   "title_sidebar": "Contents",
   "toc_cell": false,
   "toc_position": {},
   "toc_section_display": true,
   "toc_window_display": false
  }
 },
 "nbformat": 4,
 "nbformat_minor": 4
}
