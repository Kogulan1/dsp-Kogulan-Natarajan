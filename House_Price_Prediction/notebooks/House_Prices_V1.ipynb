{
 "cells": [
  {
   "cell_type": "code",
   "execution_count": null,
   "id": "f327bea4",
   "metadata": {},
   "outputs": [],
   "source": [
    "from pathlib import Path\n",
    "import pandas as pd\n",
    "import joblib"
   ]
  },
  {
   "cell_type": "code",
   "execution_count": null,
   "id": "afd9338e",
   "metadata": {},
   "outputs": [],
   "source": [
    "ROOT_DIR = Path('../')\n",
    "DATA_DIR = ROOT_DIR / 'data/house-prices'\n",
    "MODELS_DIR = ROOT_DIR / 'models'\n",
    "\n",
    "train_filepath = DATA_DIR / 'train.csv'\n",
    "test_filepath = DATA_DIR / 'test.csv'"
   ]
  },
  {
   "cell_type": "code",
   "execution_count": null,
   "id": "e8695d1d",
   "metadata": {},
   "outputs": [],
   "source": [
    "import sys\n",
    "\n",
    " \n",
    "\n",
    "sys.path\n",
    "sys.path.append('../')"
   ]
  },
  {
   "cell_type": "code",
   "execution_count": null,
   "id": "b7dd198a",
   "metadata": {},
   "outputs": [],
   "source": [
    "from app.train import train\n",
    "\n",
    "train(train_filepath, MODELS_DIR, True)"
   ]
  },
  {
   "cell_type": "code",
   "execution_count": null,
   "id": "a1909711",
   "metadata": {},
   "outputs": [],
   "source": [
    "from app.inference import inference\n",
    "\n",
    "inference(test_filepath, MODELS_DIR, False)"
   ]
  },
  {
   "cell_type": "code",
   "execution_count": null,
   "id": "6c62624f",
   "metadata": {},
   "outputs": [],
   "source": []
  }
 ],
 "metadata": {
  "kernelspec": {
   "display_name": "Python 3",
   "language": "python",
   "name": "python3"
  },
  "language_info": {
   "codemirror_mode": {
    "name": "ipython",
    "version": 3
   },
   "file_extension": ".py",
   "mimetype": "text/x-python",
   "name": "python",
   "nbconvert_exporter": "python",
   "pygments_lexer": "ipython3",
   "version": "3.6.13"
  },
  "toc": {
   "base_numbering": 1,
   "nav_menu": {},
   "number_sections": true,
   "sideBar": true,
   "skip_h1_title": false,
   "title_cell": "Table of Contents",
   "title_sidebar": "Contents",
   "toc_cell": false,
   "toc_position": {},
   "toc_section_display": true,
   "toc_window_display": false
  }
 },
 "nbformat": 4,
 "nbformat_minor": 5
}
