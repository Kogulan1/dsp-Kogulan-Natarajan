{
 "cells": [
  {
   "cell_type": "code",
   "execution_count": 1,
   "id": "f327bea4",
   "metadata": {},
   "outputs": [],
   "source": [
    "from pathlib import Path\n",
    "import pandas as pd\n",
    "import joblib\n",
    "from sklearn.model_selection import train_test_split\n",
    "from sklearn.linear_model import LinearRegression"
   ]
  },
  {
   "cell_type": "code",
   "execution_count": 2,
   "id": "afd9338e",
   "metadata": {},
   "outputs": [],
   "source": [
    "ROOT_DIR = Path('../')\n",
    "DATA_DIR = ROOT_DIR / 'data/CO2 Emission'\n",
    "MODELS_DIR = ROOT_DIR / 'models'\n",
    "\n",
    "train_filepath = DATA_DIR / 'train.csv'\n",
    "test_filepath = DATA_DIR / 'test.csv'"
   ]
  },
  {
   "cell_type": "code",
   "execution_count": 3,
   "id": "e8695d1d",
   "metadata": {},
   "outputs": [],
   "source": [
    "import sys\n",
    "\n",
    " \n",
    "\n",
    "sys.path\n",
    "sys.path.append('../')"
   ]
  },
  {
   "cell_type": "code",
   "execution_count": 4,
   "id": "b7dd198a",
   "metadata": {
    "scrolled": false
   },
   "outputs": [
    {
     "name": "stderr",
     "output_type": "stream",
     "text": [
      "..\\app\\preprocessing.py:24: FutureWarning: The default value of regex will change from True to False in a future version.\n",
      "  X.columns = X.columns.str.replace(r\"\\(.*?\\)\", \"\")\n"
     ]
    },
    {
     "data": {
      "text/plain": [
       "(0.8768884946877261,\n",
       "       Engine_Size  Cylinders  Fuel_Consumption_City  Fuel_Consumption_Hwy  \\\n",
       " 0             2.0          4                    9.9                   6.7   \n",
       " 1             2.4          4                   11.2                   7.7   \n",
       " 2             1.5          4                    6.0                   5.8   \n",
       " 3             3.5          6                   12.7                   9.1   \n",
       " 4             3.5          6                   12.1                   8.7   \n",
       " ...           ...        ...                    ...                   ...   \n",
       " 7380          2.0          4                   10.7                   7.7   \n",
       " 7381          2.0          4                   11.2                   8.3   \n",
       " 7382          2.0          4                   11.7                   8.6   \n",
       " 7383          2.0          4                   11.2                   8.3   \n",
       " 7384          2.0          4                   12.2                   8.7   \n",
       " \n",
       "       Fuel_Consumption_Comb  CO2_Emissions  \n",
       " 0                       8.5            196  \n",
       " 1                       9.6            221  \n",
       " 2                       5.9            136  \n",
       " 3                      11.1            255  \n",
       " 4                      10.6            244  \n",
       " ...                     ...            ...  \n",
       " 7380                    9.4            219  \n",
       " 7381                    9.9            232  \n",
       " 7382                   10.3            240  \n",
       " 7383                    9.9            232  \n",
       " 7384                   10.7            248  \n",
       " \n",
       " [7385 rows x 6 columns],\n",
       " Index(['Engine_Size', 'Cylinders', 'Fuel_Consumption_City',\n",
       "        'Fuel_Consumption_Hwy', 'Fuel_Consumption_Comb', 'CO2_Emissions'],\n",
       "       dtype='object'))"
      ]
     },
     "execution_count": 4,
     "metadata": {},
     "output_type": "execute_result"
    }
   ],
   "source": [
    "from app.train import train\n",
    "\n",
    "train(train_filepath, MODELS_DIR, True)"
   ]
  },
  {
   "cell_type": "code",
   "execution_count": 5,
   "id": "a1909711",
   "metadata": {},
   "outputs": [
    {
     "name": "stderr",
     "output_type": "stream",
     "text": [
      "..\\app\\preprocessing.py:24: FutureWarning: The default value of regex will change from True to False in a future version.\n",
      "  X.columns = X.columns.str.replace(r\"\\(.*?\\)\", \"\")\n"
     ]
    },
    {
     "data": {
      "text/plain": [
       "array([200.90119714, 217.71038869, 163.89703465, ..., 224.69084979,\n",
       "       219.38670485, 229.78269784])"
      ]
     },
     "execution_count": 5,
     "metadata": {},
     "output_type": "execute_result"
    }
   ],
   "source": [
    "from app.inference import inference\n",
    "\n",
    "inference(test_filepath, MODELS_DIR, False)"
   ]
  },
  {
   "cell_type": "code",
   "execution_count": null,
   "id": "8cc49232",
   "metadata": {},
   "outputs": [],
   "source": []
  }
 ],
 "metadata": {
  "kernelspec": {
   "display_name": "Python 3",
   "language": "python",
   "name": "python3"
  },
  "language_info": {
   "codemirror_mode": {
    "name": "ipython",
    "version": 3
   },
   "file_extension": ".py",
   "mimetype": "text/x-python",
   "name": "python",
   "nbconvert_exporter": "python",
   "pygments_lexer": "ipython3",
   "version": "3.8.8"
  },
  "toc": {
   "base_numbering": 1,
   "nav_menu": {},
   "number_sections": true,
   "sideBar": true,
   "skip_h1_title": false,
   "title_cell": "Table of Contents",
   "title_sidebar": "Contents",
   "toc_cell": false,
   "toc_position": {},
   "toc_section_display": true,
   "toc_window_display": false
  }
 },
 "nbformat": 4,
 "nbformat_minor": 5
}
